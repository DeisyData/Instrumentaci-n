{
  "nbformat": 4,
  "nbformat_minor": 0,
  "metadata": {
    "colab": {
      "provenance": [],
      "authorship_tag": "ABX9TyO6yuVE9x1fQ8xFqzGaU7My",
      "include_colab_link": true
    },
    "kernelspec": {
      "name": "python3",
      "display_name": "Python 3"
    },
    "language_info": {
      "name": "python"
    }
  },
  "cells": [
    {
      "cell_type": "markdown",
      "metadata": {
        "id": "view-in-github",
        "colab_type": "text"
      },
      "source": [
        "<a href=\"https://colab.research.google.com/github/DeisyData/Instrumentaci-n/blob/main/Integrador_CurvaTermistor.ipynb\" target=\"_parent\"><img src=\"https://colab.research.google.com/assets/colab-badge.svg\" alt=\"Open In Colab\"/></a>"
      ]
    },
    {
      "cell_type": "markdown",
      "source": [
        "# Laboratorio 1. Curva característiva y linealización del **Termistor**\n",
        "\n",
        "### **Competencia**\n",
        "C-II-01- Identificar las características dinámicas y estáticas de los sistemas de medición, así como las propiedades genéricas de los dispositivos (sensores, actuadores y transmisores), utilizando la hoja de datos del fabricante y métodos experimentales, para determinar criterios de funcionamiento, selección y desempeño de los\n",
        "\n",
        "### **Resultado de aprendizaje**\n",
        "RA-II-03-Interpreta las caracterisitcas estáticas y dinámicas de instrumentos de medición\n",
        "\n"
      ],
      "metadata": {
        "id": "sGrpugyzKok4"
      }
    },
    {
      "cell_type": "markdown",
      "source": [
        "Importar librarías\n"
      ],
      "metadata": {
        "id": "4ZDveNvVQB1j"
      }
    },
    {
      "cell_type": "code",
      "source": [
        "import ipywidgets as widgets\n",
        "import numpy as np\n",
        "from math import e\n",
        "import matplotlib.pyplot as plt"
      ],
      "metadata": {
        "id": "O9JzQL_7PzjY"
      },
      "execution_count": 1,
      "outputs": []
    },
    {
      "cell_type": "markdown",
      "source": [
        "# Parte I. Calcula Betha"
      ],
      "metadata": {
        "id": "Y_0yf7C3LscK"
      }
    },
    {
      "cell_type": "markdown",
      "source": [
        "Propósito: graficar la curva característica de un transistor NTC"
      ],
      "metadata": {
        "id": "jUT6-yP6L1xe"
      }
    },
    {
      "cell_type": "markdown",
      "source": [
        "Calcular el coeficiente B a partir de dos puntos conocidos.\n",
        "\n",
        "$Betha=\\frac{LnR_1-LnR_2}{\\frac{1}{T_1}-\\frac{1}{T_2}}$\n"
      ],
      "metadata": {
        "id": "l7oTKYXMN_qg"
      }
    },
    {
      "cell_type": "code",
      "source": [
        "R1 = float(input(\"Ingrese R1 en ohm \"))\n",
        "T1 = float(input(\"Ingrese T1 en celsius: \"))\n",
        "R2 = float(input(\"Ingrese R2 en ohm \"))\n",
        "T2 = float(input(\"Ingrese T2 en celsius: \"))"
      ],
      "metadata": {
        "colab": {
          "base_uri": "https://localhost:8080/"
        },
        "id": "KEvBV8xNL1e4",
        "outputId": "e22dbe04-65fb-466a-ddda-ca4526806186"
      },
      "execution_count": 2,
      "outputs": [
        {
          "name": "stdout",
          "output_type": "stream",
          "text": [
            "Ingrese R1 en ohm 162.2\n",
            "Ingrese T1 en celsius: 0\n",
            "Ingrese R2 en ohm 3.3\n",
            "Ingrese T2 en celsius: 100\n"
          ]
        }
      ]
    },
    {
      "cell_type": "markdown",
      "source": [
        "Función para calcular bheta"
      ],
      "metadata": {
        "id": "iOWzfbqnVZM2"
      }
    },
    {
      "cell_type": "code",
      "source": [
        "def bethaT(R1,T1,R2,T2):\n",
        "  T1 = T1 +273\n",
        "  T2 = T2 +273\n",
        "  num = (np.log(R1))-(np.log(R2))\n",
        "  den =  (1/T1)-(1/T2)\n",
        "  B = num/den\n",
        "  return B"
      ],
      "metadata": {
        "id": "IEY4rzk-VcxO"
      },
      "execution_count": 3,
      "outputs": []
    },
    {
      "cell_type": "code",
      "source": [
        "B = bethaT(R1,T1,R2,T2)\n",
        "print(\"El valor Betha es: \", B)"
      ],
      "metadata": {
        "colab": {
          "base_uri": "https://localhost:8080/"
        },
        "id": "2o1zxxAVW5Xq",
        "outputId": "01617968-c070-4199-8276-93ab8cc25e46"
      },
      "execution_count": 4,
      "outputs": [
        {
          "output_type": "stream",
          "name": "stdout",
          "text": [
            "El valor Betha es:  3966.1455345518684\n"
          ]
        }
      ]
    },
    {
      "cell_type": "code",
      "source": [
        "Ro = float(input(\"Ingrese Ro en kohm \"))\n",
        "To = float(input(\"Ingrese To en celsius: \"))+273"
      ],
      "metadata": {
        "colab": {
          "base_uri": "https://localhost:8080/"
        },
        "id": "aJYWqaYdZPBz",
        "outputId": "c975f75c-29a8-49e9-9982-0d01c5497746"
      },
      "execution_count": 5,
      "outputs": [
        {
          "name": "stdout",
          "output_type": "stream",
          "text": [
            "Ingrese Ro en kohm 250\n",
            "Ingrese To en celsius: 25\n"
          ]
        }
      ]
    },
    {
      "cell_type": "code",
      "source": [
        " T = (np.linspace(253,373,119))\n",
        " Exponente = B*((1/T)-(1/To))\n",
        " base = np.exp(Exponente)\n",
        " R = Ro*base"
      ],
      "metadata": {
        "id": "ubEjPBvbaAG5"
      },
      "execution_count": 7,
      "outputs": []
    },
    {
      "cell_type": "markdown",
      "source": [
        "# Parte II. Curva caracterísitica\n",
        "La ecuación caracterísitica de un thermistor es:\n",
        "\n",
        "(2) $R(T)=R_0 e^{B(\\frac{1}{T}-\\frac{1}{T_0})}$\n"
      ],
      "metadata": {
        "id": "6LqfdxsN87Pt"
      }
    },
    {
      "cell_type": "code",
      "source": [
        "plt.plot(T,R)\n",
        "plt.ylabel('R Ohm')\n",
        "plt.xlabel('Temperature en kelvin')\n",
        "plt.grid()"
      ],
      "metadata": {
        "colab": {
          "base_uri": "https://localhost:8080/",
          "height": 449
        },
        "id": "OIdjN1BMbpUK",
        "outputId": "bbdf3cf9-e71c-47c4-c0c0-507dfa9585af"
      },
      "execution_count": 9,
      "outputs": [
        {
          "output_type": "display_data",
          "data": {
            "text/plain": [
              "<Figure size 640x480 with 1 Axes>"
            ],
            "image/png": "[encoded data removed]"
          },
          "metadata": {}
        }
      ]
    },
    {
      "cell_type": "markdown",
      "source": [
        "# Parte III. Linealización\n",
        "\n",
        "Para abreviar se determina a la exponencial como $f(T)$\n",
        "\n",
        "(3) $R(T)=R_0 f(T)$\n",
        "\n",
        "Para poder linealizar se usará un divisor de tensión, entonces tenemos:\n",
        "\n",
        "(4) $V_o = \\frac{R_{ref}}{R(T) + R_{ref}} V_{ref}$\n",
        "\n",
        "Reemplazando (3) en (4)\n",
        "\n",
        "(5) $V_o = \\frac{R_{ref}}{R_0 f(T) + R_{ref}} V_{ref}$\n",
        "\n",
        "Dividiendo toda la expresión en $R_{ref}$\n",
        "\n",
        "(6) $V_o = \\frac{1}{\\frac{R_0}{R_{ref}} f(T) + 1} V_{ref}$\n",
        "\n",
        "donde\n",
        "\n",
        "$k = \\frac{R_0}{R_{ref}}$\n",
        "\n",
        "Entonces\n",
        "\n",
        "(7) $V_o = \\frac{1}{k f(T) + 1} V_{ref}$\n"
      ],
      "metadata": {
        "id": "A0lEaoDRY9m3"
      }
    },
    {
      "cell_type": "markdown",
      "source": [
        "Generar diferentes gráficas para determinar cual es la mejor relación de $k$"
      ],
      "metadata": {
        "id": "znpKtu0g9v3k"
      }
    },
    {
      "cell_type": "code",
      "source": [
        "Ro = float(input(\"Ingrese Ro en [Ohm]:\"))"
      ],
      "metadata": {
        "colab": {
          "base_uri": "https://localhost:8080/"
        },
        "id": "ajQZpmol96D8",
        "outputId": "45c2c386-fd88-4c99-dc5b-8abcbcb13b6c"
      },
      "execution_count": 10,
      "outputs": [
        {
          "name": "stdout",
          "output_type": "stream",
          "text": [
            "Ingrese Ro en [Ohm]:1000\n"
          ]
        }
      ]
    },
    {
      "cell_type": "code",
      "source": [
        "Vref = float(input(\"Ingrese Vref en [V]: \"))"
      ],
      "metadata": {
        "colab": {
          "base_uri": "https://localhost:8080/"
        },
        "id": "onaEy7Lz_BOu",
        "outputId": "d0e59582-2cb6-4109-a6c0-fbd347b7e9d2"
      },
      "execution_count": 11,
      "outputs": [
        {
          "name": "stdout",
          "output_type": "stream",
          "text": [
            "Ingrese Vref en [V]: 5\n"
          ]
        }
      ]
    },
    {
      "cell_type": "code",
      "source": [
        "k = float(input(\"Ingrese  el valor de k:  \"))\n",
        "\n",
        "Rref = Ro/k;\n",
        "\n",
        "print(\"El valor de  Rref será \", Rref, \"kOhm\")\n",
        "\n",
        "To = 25+273;\n",
        "T = (np.linspace(253,373,119))\n",
        "Exponente = B*((1/T)-(1/To))\n",
        "base = np.exp(Exponente) ## base == f(T)\n",
        "Vo = (1 / (k*base+1)) * Vref;\n",
        "\n",
        "T = (np.linspace(253,373,119)) -273\n",
        "plt.plot(T,Vo)\n",
        "plt.ylabel('Tensión de salida')\n",
        "plt.xlabel('Temperatura [C]')\n",
        "plt.show()"
      ],
      "metadata": {
        "colab": {
          "base_uri": "https://localhost:8080/",
          "height": 486
        },
        "id": "3dEJ-zqc-CU8",
        "outputId": "6b2d0008-e712-4b54-aee5-06719ed7849e"
      },
      "execution_count": 12,
      "outputs": [
        {
          "output_type": "stream",
          "name": "stdout",
          "text": [
            "Ingrese  el valor de k:  2530\n",
            "El valor de  Rref será  0.3952569169960474 kOhm\n"
          ]
        },
        {
          "output_type": "display_data",
          "data": {
            "text/plain": [
              "<Figure size 640x480 with 1 Axes>"
            ],
            "image/png": "[encoded data removed]"
          },
          "metadata": {}
        }
      ]
    }
  ]
}